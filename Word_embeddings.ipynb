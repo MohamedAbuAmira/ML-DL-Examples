{
  "nbformat": 4,
  "nbformat_minor": 0,
  "metadata": {
    "colab": {
      "name": "Word embeddings.ipynb",
      "provenance": [],
      "toc_visible": true,
      "authorship_tag": "ABX9TyM5Krlugo988I0Qr9FHi0z1",
      "include_colab_link": true
    },
    "kernelspec": {
      "name": "python3",
      "display_name": "Python 3"
    },
    "accelerator": "GPU"
  },
  "cells": [
    {
      "cell_type": "markdown",
      "metadata": {
        "id": "view-in-github",
        "colab_type": "text"
      },
      "source": [
        "<a href=\"https://colab.research.google.com/github/MohamedAbuAmira/ML-DL-Examples/blob/master/Word_embeddings.ipynb\" target=\"_parent\"><img src=\"https://colab.research.google.com/assets/colab-badge.svg\" alt=\"Open In Colab\"/></a>"
      ]
    },
    {
      "cell_type": "markdown",
      "metadata": {
        "id": "2eSMQrflsojL",
        "colab_type": "text"
      },
      "source": [
        "from https://www.tensorflow.org/tutorials/text/word_embeddings"
      ]
    },
    {
      "cell_type": "markdown",
      "metadata": {
        "id": "cY-QeonfsmSQ",
        "colab_type": "text"
      },
      "source": [
        "# Representing text as numbers"
      ]
    },
    {
      "cell_type": "markdown",
      "metadata": {
        "id": "XTGFXOzMs14c",
        "colab_type": "text"
      },
      "source": [
        "Machine learning models take vectors (arrays of numbers) as input. When working with text, the first thing we must do come up with a strategy to convert strings to numbers (or to \"vectorize\" the text) before feeding it to the model. In this section, we will look at three strategies for doing so."
      ]
    },
    {
      "cell_type": "markdown",
      "metadata": {
        "id": "IfexgCJhs2nK",
        "colab_type": "text"
      },
      "source": [
        "## One-hot encodings"
      ]
    },
    {
      "cell_type": "markdown",
      "metadata": {
        "id": "keJYjuqZuQtf",
        "colab_type": "text"
      },
      "source": [
        "As a first idea, we might \"one-hot\" encode each word in our vocabulary. Consider the sentence \"The cat sat on the mat\". The vocabulary (or unique words) in this sentence is (cat, mat, on, sat, the). To represent each word, we will create a zero vector with length equal to the vocabulary, then place a one in the index that corresponds to the word. This approach is shown in the following diagram."
      ]
    },
    {
      "cell_type": "markdown",
      "metadata": {
        "id": "z0sA1-B1uRX3",
        "colab_type": "text"
      },
      "source": [
        "## Encode each word with a unique number"
      ]
    },
    {
      "cell_type": "markdown",
      "metadata": {
        "id": "npSxGSv9uVwQ",
        "colab_type": "text"
      },
      "source": [
        "A second approach we might try is to encode each word using a unique number. Continuing the example above, we could assign 1 to \"cat\", 2 to \"mat\", and so on. We could then encode the sentence \"The cat sat on the mat\" as a dense vector like [5, 1, 4, 3, 5, 2]. This appoach is efficient. Instead of a sparse vector, we now have a dense one (where all elements are full).\n",
        "\n",
        "There are two downsides to this approach, however:\n",
        "\n",
        "The integer-encoding is arbitrary (it does not capture any relationship between words).\n",
        "\n",
        "An integer-encoding can be challenging for a model to interpret. A linear classifier, for example, learns a single weight for each feature. Because there is no relationship between the similarity of any two words and the similarity of their encodings, this feature-weight combination is not meaningful."
      ]
    },
    {
      "cell_type": "markdown",
      "metadata": {
        "id": "dDG-AyJGuZm3",
        "colab_type": "text"
      },
      "source": [
        "## Word embeddings"
      ]
    },
    {
      "cell_type": "markdown",
      "metadata": {
        "id": "vqPBwjw_whQG",
        "colab_type": "text"
      },
      "source": [
        "Word embeddings give us a way to use an efficient, dense representation in which similar words have a similar encoding. Importantly, we do not have to specify this encoding by hand. An embedding is a dense vector of floating point values (the length of the vector is a parameter you specify). Instead of specifying the values for the embedding manually, they are trainable parameters (weights learned by the model during training, in the same way a model learns weights for a dense layer). It is common to see word embeddings that are 8-dimensional (for small datasets), up to 1024-dimensions when working with large datasets. A higher dimensional embedding can capture fine-grained relationships between words, but takes more data to learn."
      ]
    },
    {
      "cell_type": "markdown",
      "metadata": {
        "id": "lzj8pSuFwpR7",
        "colab_type": "text"
      },
      "source": [
        "# Setup"
      ]
    },
    {
      "cell_type": "code",
      "metadata": {
        "id": "2z1PVlJQubaq",
        "colab_type": "code",
        "colab": {}
      },
      "source": [
        "import tensorflow as tf"
      ],
      "execution_count": 1,
      "outputs": []
    },
    {
      "cell_type": "code",
      "metadata": {
        "id": "g-UEQL7iwrBV",
        "colab_type": "code",
        "colab": {}
      },
      "source": [
        "from tensorflow import keras\n",
        "from tensorflow.keras import layers\n",
        "\n",
        "import tensorflow_datasets as tfds\n",
        "tfds.disable_progress_bar()"
      ],
      "execution_count": 2,
      "outputs": []
    },
    {
      "cell_type": "markdown",
      "metadata": {
        "id": "RFE1nv7vwwyq",
        "colab_type": "text"
      },
      "source": [
        "## Using the Embedding layer"
      ]
    },
    {
      "cell_type": "code",
      "metadata": {
        "id": "riBmuy-keSqH",
        "colab_type": "code",
        "colab": {
          "base_uri": "https://localhost:8080/",
          "height": 52
        },
        "outputId": "8abf1c9f-40c0-4061-db95-f8c4c31d53bf"
      },
      "source": [
        "'''\n",
        "tf.keras.layers.Embedding(\n",
        "    input_dim, output_dim, embeddings_initializer='uniform',\n",
        "    embeddings_regularizer=None, activity_regularizer=None,\n",
        "    embeddings_constraint=None, mask_zero=False, input_length=None, **kwargs\n",
        ")\n",
        "'''"
      ],
      "execution_count": 3,
      "outputs": [
        {
          "output_type": "execute_result",
          "data": {
            "application/vnd.google.colaboratory.intrinsic+json": {
              "type": "string"
            },
            "text/plain": [
              "\"\\ntf.keras.layers.Embedding(\\n    input_dim, output_dim, embeddings_initializer='uniform',\\n    embeddings_regularizer=None, activity_regularizer=None,\\n    embeddings_constraint=None, mask_zero=False, input_length=None, **kwargs\\n)\\n\""
            ]
          },
          "metadata": {
            "tags": []
          },
          "execution_count": 3
        }
      ]
    },
    {
      "cell_type": "markdown",
      "metadata": {
        "id": "MHDmDZA0flkT",
        "colab_type": "text"
      },
      "source": [
        "* **input_dim**\tSize of the vocabulary, i.e. maximum integer index + 1.\n",
        "* **output_dim** Dimension of the dense embedding."
      ]
    },
    {
      "cell_type": "code",
      "metadata": {
        "id": "50SglixqeWFv",
        "colab_type": "code",
        "colab": {
          "base_uri": "https://localhost:8080/",
          "height": 34
        },
        "outputId": "096190e7-9308-4160-912a-a4a03c18e576"
      },
      "source": [
        "import numpy as np\n",
        "\n",
        "\n",
        "modelx = tf.keras.Sequential()\n",
        "modelx.add(tf.keras.layers.Embedding(1000, 64, input_length=10))\n",
        "# The model will take as input an integer matrix of size (batch,\n",
        "# input_length), and the largest integer (i.e. word index) in the input\n",
        "# should be no larger than 999 (vocabulary size).\n",
        "# Now model.output_shape is (None, 10, 64), where `None` is the batch\n",
        "# dimension.\n",
        "input_array = np.random.randint(1000, size=(32, 10))\n",
        "modelx.compile('rmsprop', 'mse')\n",
        "output_array = modelx.predict(input_array)\n",
        "print(output_array.shape)\n"
      ],
      "execution_count": 4,
      "outputs": [
        {
          "output_type": "stream",
          "text": [
            "(32, 10, 64)\n"
          ],
          "name": "stdout"
        }
      ]
    },
    {
      "cell_type": "code",
      "metadata": {
        "id": "ji3mVb7hgSRF",
        "colab_type": "code",
        "colab": {
          "base_uri": "https://localhost:8080/",
          "height": 561
        },
        "outputId": "47de5ddb-a688-4fc6-90dd-99084105daaa"
      },
      "source": [
        "input_array = np.random.randint(1000, size=(32, 10))\n",
        "input_array"
      ],
      "execution_count": 5,
      "outputs": [
        {
          "output_type": "execute_result",
          "data": {
            "text/plain": [
              "array([[249, 552, 417, 138, 299, 570, 146, 550, 827, 944],\n",
              "       [617, 772, 132, 402, 380, 809, 166, 576, 562, 287],\n",
              "       [242, 883, 844, 382, 255, 604, 244,  46, 816, 721],\n",
              "       [159, 545, 895, 765, 778, 165, 232, 525, 483, 827],\n",
              "       [245, 709, 706,  59, 429, 865, 261, 195, 464, 472],\n",
              "       [166, 474,  14, 676, 524, 102, 881, 897, 508, 318],\n",
              "       [839, 397, 672, 653, 376, 260, 669, 931, 895, 934],\n",
              "       [189, 951, 416, 742, 763, 436, 316, 231, 728,  35],\n",
              "       [527, 284, 811, 393, 560, 963, 572, 505, 378, 273],\n",
              "       [329, 493, 659, 437, 683, 429, 588, 391, 696, 949],\n",
              "       [245, 966, 186, 141, 950, 410, 345, 186, 473, 279],\n",
              "       [886, 737, 917, 726, 818, 644, 187, 751, 984, 702],\n",
              "       [287, 545, 429, 726, 368, 804,  92, 215, 212, 830],\n",
              "       [763, 347, 655, 812, 288, 134, 863, 682, 697, 183],\n",
              "       [226, 991, 830, 334, 111, 352, 493, 847, 313, 475],\n",
              "       [900, 860, 894, 792, 938, 216, 217, 837, 630, 201],\n",
              "       [ 74, 988, 242, 626, 868, 462, 164, 837, 751, 381],\n",
              "       [244, 478, 710, 429,   2, 160, 623, 692, 548, 618],\n",
              "       [895,  46, 610, 233, 516, 527, 644, 190, 456, 643],\n",
              "       [374, 915, 172, 823, 165, 993, 682,  36,  67, 904],\n",
              "       [284, 768, 755, 832, 499, 610, 986, 332, 858, 276],\n",
              "       [298, 163,  15, 724,  45, 514, 751, 313, 158,  57],\n",
              "       [506, 560, 713, 214, 383, 452, 951, 769,   4, 569],\n",
              "       [ 11, 198, 477, 688, 448, 473, 112, 159, 693, 799],\n",
              "       [690, 957, 808, 153, 473, 218, 114, 439, 189, 882],\n",
              "       [961, 806, 479, 902, 216,  61, 466, 602, 516, 749],\n",
              "       [666, 998, 191, 350, 206, 847, 539, 186,  98, 857],\n",
              "       [311, 360, 637, 808, 508, 788, 339, 984, 661,  11],\n",
              "       [107, 986, 167, 948, 811, 737, 469, 109, 635, 917],\n",
              "       [882, 556, 891, 265, 343, 124, 490, 653, 712, 453],\n",
              "       [ 38, 393, 332, 951, 465, 489, 497, 447, 775,  15],\n",
              "       [390, 508, 225, 676, 698, 726, 518, 723, 352, 720]])"
            ]
          },
          "metadata": {
            "tags": []
          },
          "execution_count": 5
        }
      ]
    },
    {
      "cell_type": "markdown",
      "metadata": {
        "id": "O66UlKmOw7pa",
        "colab_type": "text"
      },
      "source": [
        "The Embedding layer can be understood as a lookup table that maps from integer indices (which stand for specific words) to dense vectors (their embeddings). The dimensionality (or width) of the embedding is a parameter you can experiment with to see what works well for your problem, much in the same way you would experiment with the number of neurons in a Dense layer."
      ]
    },
    {
      "cell_type": "code",
      "metadata": {
        "id": "DJ_RvkCOwvUX",
        "colab_type": "code",
        "colab": {}
      },
      "source": [
        "embedding_layer = layers.Embedding(1000, 5)"
      ],
      "execution_count": 6,
      "outputs": []
    },
    {
      "cell_type": "code",
      "metadata": {
        "id": "HtZanKMtYexG",
        "colab_type": "code",
        "colab": {
          "base_uri": "https://localhost:8080/",
          "height": 85
        },
        "outputId": "50386b88-5ef6-4d24-df8e-35156de4b0d9"
      },
      "source": [
        "result = embedding_layer(tf.constant([1,2,3]))\n",
        "result.numpy()"
      ],
      "execution_count": 7,
      "outputs": [
        {
          "output_type": "execute_result",
          "data": {
            "text/plain": [
              "array([[-0.04452914, -0.00995452, -0.00420139, -0.00433164,  0.02441564],\n",
              "       [ 0.01665464,  0.03433489,  0.00122463, -0.0370628 ,  0.03844729],\n",
              "       [ 0.03921271,  0.02036146, -0.02518647, -0.02137467, -0.02346976]],\n",
              "      dtype=float32)"
            ]
          },
          "metadata": {
            "tags": []
          },
          "execution_count": 7
        }
      ]
    },
    {
      "cell_type": "code",
      "metadata": {
        "id": "0Iy1OLpFbt-_",
        "colab_type": "code",
        "colab": {
          "base_uri": "https://localhost:8080/",
          "height": 34
        },
        "outputId": "f4c09a98-51d3-4593-f07f-81c7d5fe715e"
      },
      "source": [
        "result.shape\n"
      ],
      "execution_count": 8,
      "outputs": [
        {
          "output_type": "execute_result",
          "data": {
            "text/plain": [
              "TensorShape([3, 5])"
            ]
          },
          "metadata": {
            "tags": []
          },
          "execution_count": 8
        }
      ]
    },
    {
      "cell_type": "markdown",
      "metadata": {
        "id": "ne2t7PsPZfgo",
        "colab_type": "text"
      },
      "source": [
        "For text or sequence problems, the Embedding layer takes a 2D tensor of integers, of shape `(samples, sequence_length)`, where each entry is a sequence of integers. It can embed sequences of variable lengths. You could feed into the embedding layer above batches with shapes (32, 10) (batch of 32 sequences of length 10) or (64, 15) (batch of 64 sequences of length 15)."
      ]
    },
    {
      "cell_type": "markdown",
      "metadata": {
        "id": "9wKb_YzXcocb",
        "colab_type": "text"
      },
      "source": [
        "The returned tensor has one more axis than the input, the embedding vectors are aligned along the new last axis. Pass it a (2, 3) input batch and the output is (2, 3, N)"
      ]
    },
    {
      "cell_type": "code",
      "metadata": {
        "id": "FHb145_LdDWB",
        "colab_type": "code",
        "colab": {
          "base_uri": "https://localhost:8080/",
          "height": 68
        },
        "outputId": "8383954d-cead-46bd-c242-6aeefdf39575"
      },
      "source": [
        "tf.constant([[0,1,2],[3,4,5]])"
      ],
      "execution_count": 9,
      "outputs": [
        {
          "output_type": "execute_result",
          "data": {
            "text/plain": [
              "<tf.Tensor: shape=(2, 3), dtype=int32, numpy=\n",
              "array([[0, 1, 2],\n",
              "       [3, 4, 5]], dtype=int32)>"
            ]
          },
          "metadata": {
            "tags": []
          },
          "execution_count": 9
        }
      ]
    },
    {
      "cell_type": "code",
      "metadata": {
        "id": "WFVuEOREYu3N",
        "colab_type": "code",
        "colab": {
          "base_uri": "https://localhost:8080/",
          "height": 34
        },
        "outputId": "6eedd094-80a3-4801-dcb4-16404569bf86"
      },
      "source": [
        "result = embedding_layer(tf.constant([[0,1,2],[3,4,5]]))\n",
        "result.shape"
      ],
      "execution_count": 10,
      "outputs": [
        {
          "output_type": "execute_result",
          "data": {
            "text/plain": [
              "TensorShape([2, 3, 5])"
            ]
          },
          "metadata": {
            "tags": []
          },
          "execution_count": 10
        }
      ]
    },
    {
      "cell_type": "markdown",
      "metadata": {
        "id": "4HdZ04_1diZY",
        "colab_type": "text"
      },
      "source": [
        "When given a batch of sequences as input, an embedding layer returns a 3D floating point tensor, of shape (samples, sequence_length, embedding_dimensionality). To convert from this sequence of variable length to a fixed representation there are a variety of standard approaches. You could use an RNN, Attention, or pooling layer before passing it to a Dense layer. This tutorial uses pooling because it's simplest. "
      ]
    },
    {
      "cell_type": "markdown",
      "metadata": {
        "id": "u4-aD7bUeeEX",
        "colab_type": "text"
      },
      "source": [
        "**This layer can only be used as the first layer in a model.**\n",
        "\n"
      ]
    },
    {
      "cell_type": "markdown",
      "metadata": {
        "id": "ZrgL4KJthTyM",
        "colab_type": "text"
      },
      "source": [
        "# Learning embeddings from scratch"
      ]
    },
    {
      "cell_type": "code",
      "metadata": {
        "id": "Vsuygcm8dR6d",
        "colab_type": "code",
        "colab": {
          "base_uri": "https://localhost:8080/",
          "height": 122
        },
        "outputId": "b1c98152-574b-45f4-8f34-d62025f9fc5b"
      },
      "source": [
        "(train_data, test_data), info = tfds.load(\n",
        "    'imdb_reviews/subwords8k', \n",
        "    split = (tfds.Split.TRAIN, tfds.Split.TEST), \n",
        "    with_info=True, as_supervised=True)"
      ],
      "execution_count": 11,
      "outputs": [
        {
          "output_type": "stream",
          "text": [
            "\u001b[1mDownloading and preparing dataset imdb_reviews/subwords8k/1.0.0 (download: 80.23 MiB, generated: Unknown size, total: 80.23 MiB) to /root/tensorflow_datasets/imdb_reviews/subwords8k/1.0.0...\u001b[0m\n",
            "Shuffling and writing examples to /root/tensorflow_datasets/imdb_reviews/subwords8k/1.0.0.incompleteZJ5X16/imdb_reviews-train.tfrecord\n",
            "Shuffling and writing examples to /root/tensorflow_datasets/imdb_reviews/subwords8k/1.0.0.incompleteZJ5X16/imdb_reviews-test.tfrecord\n",
            "Shuffling and writing examples to /root/tensorflow_datasets/imdb_reviews/subwords8k/1.0.0.incompleteZJ5X16/imdb_reviews-unsupervised.tfrecord\n",
            "\u001b[1mDataset imdb_reviews downloaded and prepared to /root/tensorflow_datasets/imdb_reviews/subwords8k/1.0.0. Subsequent calls will reuse this data.\u001b[0m\n"
          ],
          "name": "stdout"
        }
      ]
    },
    {
      "cell_type": "markdown",
      "metadata": {
        "id": "32Xr-F2VodtJ",
        "colab_type": "text"
      },
      "source": [
        "Get the encoder (tfds.features.text.SubwordTextEncoder), and have a quick look at the vocabulary.\n",
        "\n",
        "The \"_\" in the vocabulary represent spaces. Note how the vocabulary includes whole words (ending with \"_\") and partial words which it can use to build larger words:"
      ]
    },
    {
      "cell_type": "code",
      "metadata": {
        "id": "BlAiomTVoeSn",
        "colab_type": "code",
        "colab": {
          "base_uri": "https://localhost:8080/",
          "height": 357
        },
        "outputId": "cf78d219-9eb5-4c05-a283-f0a41daab0a2"
      },
      "source": [
        "encoder = info.features['text'].encoder\n",
        "encoder.subwords[:20]"
      ],
      "execution_count": 12,
      "outputs": [
        {
          "output_type": "execute_result",
          "data": {
            "text/plain": [
              "['the_',\n",
              " ', ',\n",
              " '. ',\n",
              " 'a_',\n",
              " 'and_',\n",
              " 'of_',\n",
              " 'to_',\n",
              " 's_',\n",
              " 'is_',\n",
              " 'br',\n",
              " 'in_',\n",
              " 'I_',\n",
              " 'that_',\n",
              " 'this_',\n",
              " 'it_',\n",
              " ' /><',\n",
              " ' />',\n",
              " 'was_',\n",
              " 'The_',\n",
              " 'as_']"
            ]
          },
          "metadata": {
            "tags": []
          },
          "execution_count": 12
        }
      ]
    },
    {
      "cell_type": "code",
      "metadata": {
        "id": "MnZAdXtYq34b",
        "colab_type": "code",
        "colab": {
          "base_uri": "https://localhost:8080/",
          "height": 34
        },
        "outputId": "20b6f6ab-4546-4622-c94a-a0cd84b04bc1"
      },
      "source": [
        "encoder.vocab_size"
      ],
      "execution_count": 13,
      "outputs": [
        {
          "output_type": "execute_result",
          "data": {
            "text/plain": [
              "8185"
            ]
          },
          "metadata": {
            "tags": []
          },
          "execution_count": 13
        }
      ]
    },
    {
      "cell_type": "markdown",
      "metadata": {
        "id": "vQa7cPCspQU1",
        "colab_type": "text"
      },
      "source": [
        "Movie reviews can be different lengths. We will use the `padded_batch` method to standardize the lengths of the reviews."
      ]
    },
    {
      "cell_type": "code",
      "metadata": {
        "id": "o8XXUoI3o-ZL",
        "colab_type": "code",
        "colab": {}
      },
      "source": [
        "train_batches = train_data.shuffle(1000).padded_batch(10)\n",
        "test_batches = test_data.shuffle(1000).padded_batch(10)"
      ],
      "execution_count": 14,
      "outputs": []
    },
    {
      "cell_type": "markdown",
      "metadata": {
        "id": "PBYyW7QHplbz",
        "colab_type": "text"
      },
      "source": [
        "As imported, the text of reviews is integer-encoded (each integer represents a specific word or word-part in the vocabulary).\n",
        "\n",
        "Note the trailing zeros, because the batch is padded to the longest example."
      ]
    },
    {
      "cell_type": "code",
      "metadata": {
        "id": "eIij9h1cpXO2",
        "colab_type": "code",
        "colab": {
          "base_uri": "https://localhost:8080/",
          "height": 136
        },
        "outputId": "a346256e-3415-4ea6-e66e-48ca7c3c0a3e"
      },
      "source": [
        "train_batch, train_labels = next(iter(train_batches))\n",
        "train_batch.numpy()"
      ],
      "execution_count": 15,
      "outputs": [
        {
          "output_type": "execute_result",
          "data": {
            "text/plain": [
              "array([[5646,    2,  481, ...,  155,  166, 7975],\n",
              "       [ 283,  391, 4825, ...,    0,    0,    0],\n",
              "       [ 634,    1,  429, ...,    0,    0,    0],\n",
              "       ...,\n",
              "       [ 156,  151,   38, ...,    0,    0,    0],\n",
              "       [  12,  129, 8002, ...,    0,    0,    0],\n",
              "       [  12,   31,  674, ...,    0,    0,    0]])"
            ]
          },
          "metadata": {
            "tags": []
          },
          "execution_count": 15
        }
      ]
    },
    {
      "cell_type": "markdown",
      "metadata": {
        "id": "ApPoiZzWy0kR",
        "colab_type": "text"
      },
      "source": [
        "# Create a simple model"
      ]
    },
    {
      "cell_type": "code",
      "metadata": {
        "id": "MKKovUeaqUQc",
        "colab_type": "code",
        "colab": {
          "base_uri": "https://localhost:8080/",
          "height": 289
        },
        "outputId": "b7f121fb-f8d6-4980-dcc8-233d7a6746a9"
      },
      "source": [
        "embedding_dim=32\n",
        "\n",
        "model = keras.Sequential([\n",
        "  layers.Embedding(encoder.vocab_size, embedding_dim),\n",
        "  layers.GlobalAveragePooling1D(),\n",
        "  layers.Dense(16, activation='relu'),\n",
        "  layers.Dense(1)\n",
        "])\n",
        "\n",
        "model.summary()"
      ],
      "execution_count": 16,
      "outputs": [
        {
          "output_type": "stream",
          "text": [
            "Model: \"sequential_1\"\n",
            "_________________________________________________________________\n",
            "Layer (type)                 Output Shape              Param #   \n",
            "=================================================================\n",
            "embedding_2 (Embedding)      (None, None, 32)          261920    \n",
            "_________________________________________________________________\n",
            "global_average_pooling1d (Gl (None, 32)                0         \n",
            "_________________________________________________________________\n",
            "dense (Dense)                (None, 16)                528       \n",
            "_________________________________________________________________\n",
            "dense_1 (Dense)              (None, 1)                 17        \n",
            "=================================================================\n",
            "Total params: 262,465\n",
            "Trainable params: 262,465\n",
            "Non-trainable params: 0\n",
            "_________________________________________________________________\n"
          ],
          "name": "stdout"
        }
      ]
    },
    {
      "cell_type": "code",
      "metadata": {
        "id": "YV8LqPAGy4ze",
        "colab_type": "code",
        "colab": {
          "base_uri": "https://localhost:8080/",
          "height": 377
        },
        "outputId": "f0dc509f-27af-4cf3-a244-83ddf5963e5a"
      },
      "source": [
        "model.compile(optimizer='adam',\n",
        "              loss=tf.keras.losses.BinaryCrossentropy(from_logits=True),\n",
        "              metrics=['accuracy'])\n",
        "\n",
        "history = model.fit(\n",
        "    train_batches,\n",
        "    epochs=10,\n",
        "    validation_data=test_batches, validation_steps=20)"
      ],
      "execution_count": 17,
      "outputs": [
        {
          "output_type": "stream",
          "text": [
            "Epoch 1/10\n",
            "2500/2500 [==============================] - 16s 7ms/step - loss: 0.4776 - accuracy: 0.7197 - val_loss: 0.3874 - val_accuracy: 0.8700\n",
            "Epoch 2/10\n",
            "2500/2500 [==============================] - 16s 6ms/step - loss: 0.2690 - accuracy: 0.8900 - val_loss: 0.4016 - val_accuracy: 0.8050\n",
            "Epoch 3/10\n",
            "2500/2500 [==============================] - 16s 6ms/step - loss: 0.2173 - accuracy: 0.9146 - val_loss: 0.4015 - val_accuracy: 0.8700\n",
            "Epoch 4/10\n",
            "2500/2500 [==============================] - 16s 6ms/step - loss: 0.1918 - accuracy: 0.9256 - val_loss: 0.3247 - val_accuracy: 0.8400\n",
            "Epoch 5/10\n",
            "2500/2500 [==============================] - 16s 6ms/step - loss: 0.1671 - accuracy: 0.9368 - val_loss: 0.5170 - val_accuracy: 0.8450\n",
            "Epoch 6/10\n",
            "2500/2500 [==============================] - 16s 6ms/step - loss: 0.1518 - accuracy: 0.9442 - val_loss: 0.4747 - val_accuracy: 0.8400\n",
            "Epoch 7/10\n",
            "2500/2500 [==============================] - 16s 6ms/step - loss: 0.1364 - accuracy: 0.9515 - val_loss: 0.4832 - val_accuracy: 0.8300\n",
            "Epoch 8/10\n",
            "2500/2500 [==============================] - 16s 6ms/step - loss: 0.1247 - accuracy: 0.9558 - val_loss: 0.4181 - val_accuracy: 0.8650\n",
            "Epoch 9/10\n",
            "2500/2500 [==============================] - 16s 6ms/step - loss: 0.1147 - accuracy: 0.9582 - val_loss: 0.5422 - val_accuracy: 0.8400\n",
            "Epoch 10/10\n",
            "2500/2500 [==============================] - 15s 6ms/step - loss: 0.1108 - accuracy: 0.9594 - val_loss: 0.7962 - val_accuracy: 0.8450\n"
          ],
          "name": "stdout"
        }
      ]
    },
    {
      "cell_type": "code",
      "metadata": {
        "id": "Ib2SwrkszcKv",
        "colab_type": "code",
        "colab": {
          "base_uri": "https://localhost:8080/",
          "height": 1000
        },
        "outputId": "9351d96a-37be-4a35-e971-085f18cd93d9"
      },
      "source": [
        "import matplotlib.pyplot as plt\n",
        "\n",
        "history_dict = history.history\n",
        "\n",
        "acc = history_dict['accuracy']\n",
        "val_acc = history_dict['val_accuracy']\n",
        "loss=history_dict['loss']\n",
        "val_loss=history_dict['val_loss']\n",
        "\n",
        "epochs = range(1, len(acc) + 1)\n",
        "\n",
        "plt.figure(figsize=(12,9))\n",
        "plt.plot(epochs, loss, 'bo', label='Training loss')\n",
        "plt.plot(epochs, val_loss, 'b', label='Validation loss')\n",
        "plt.title('Training and validation loss')\n",
        "plt.xlabel('Epochs')\n",
        "plt.ylabel('Loss')\n",
        "plt.legend()\n",
        "plt.show()\n",
        "\n",
        "plt.figure(figsize=(12,9))\n",
        "plt.plot(epochs, acc, 'bo', label='Training acc')\n",
        "plt.plot(epochs, val_acc, 'b', label='Validation acc')\n",
        "plt.title('Training and validation accuracy')\n",
        "plt.xlabel('Epochs')\n",
        "plt.ylabel('Accuracy')\n",
        "plt.legend(loc='lower right')\n",
        "plt.ylim((0.5,1))\n",
        "plt.show()"
      ],
      "execution_count": 18,
      "outputs": [
        {
          "output_type": "display_data",
          "data": {
            "image/png": "[encoded data removed]",
            "text/plain": [
              "<Figure size 864x648 with 1 Axes>"
            ]
          },
          "metadata": {
            "tags": [],
            "needs_background": "light"
          }
        },
        {
          "output_type": "display_data",
          "data": {
            "image/png": "[encoded data removed]",
            "text/plain": [
              "<Figure size 864x648 with 1 Axes>"
            ]
          },
          "metadata": {
            "tags": [],
            "needs_background": "light"
          }
        }
      ]
    },
    {
      "cell_type": "markdown",
      "metadata": {
        "id": "VAq3JMr3z8p-",
        "colab_type": "text"
      },
      "source": [
        "# Retrieve the learned embeddings"
      ]
    },
    {
      "cell_type": "markdown",
      "metadata": {
        "id": "O2CNHYRB0rNz",
        "colab_type": "text"
      },
      "source": [
        "Next, let's retrieve the word embeddings learned during training. This will be a matrix of shape` (vocab_size, embedding-dimension).`"
      ]
    },
    {
      "cell_type": "code",
      "metadata": {
        "id": "W7cqLwimz9T4",
        "colab_type": "code",
        "colab": {
          "base_uri": "https://localhost:8080/",
          "height": 34
        },
        "outputId": "5e33f180-9bac-463d-c9de-e37a06bd57d1"
      },
      "source": [
        "e = model.layers[0]\n",
        "weights = e.get_weights()[0]\n",
        "print(weights.shape) # shape: (vocab_size, embedding_dim)"
      ],
      "execution_count": 19,
      "outputs": [
        {
          "output_type": "stream",
          "text": [
            "(8185, 32)\n"
          ],
          "name": "stdout"
        }
      ]
    },
    {
      "cell_type": "markdown",
      "metadata": {
        "id": "lm94VuDJ36P0",
        "colab_type": "text"
      },
      "source": [
        "We will now write the weights to disk. To use the Embedding Projector, we will upload two files in tab separated format: a file of vectors (containing the embedding), and a file of meta data (containing the words)."
      ]
    },
    {
      "cell_type": "code",
      "metadata": {
        "id": "_F6QkeHR0wFh",
        "colab_type": "code",
        "colab": {}
      },
      "source": [
        "import io\n",
        "\n",
        "encoder = info.features['text'].encoder\n",
        "\n",
        "out_v = io.open('vecs.tsv', 'w', encoding='utf-8')\n",
        "out_m = io.open('meta.tsv', 'w', encoding='utf-8')\n",
        "\n",
        "for num, word in enumerate(encoder.subwords):\n",
        "  vec = weights[num+1] # skip 0, it's padding.\n",
        "  out_m.write(word + \"\\n\")\n",
        "  out_v.write('\\t'.join([str(x) for x in vec]) + \"\\n\")\n",
        "out_v.close()\n",
        "out_m.close()"
      ],
      "execution_count": 20,
      "outputs": []
    },
    {
      "cell_type": "markdown",
      "metadata": {
        "id": "W9_yM8aU39Kk",
        "colab_type": "text"
      },
      "source": [
        "If you are running this tutorial in Colaboratory, you can use the following snippet to download these files to your local machine (or use the file browser, View -> Table of contents -> File browser)."
      ]
    },
    {
      "cell_type": "code",
      "metadata": {
        "id": "BoYLUAqp37nJ",
        "colab_type": "code",
        "colab": {
          "base_uri": "https://localhost:8080/",
          "height": 17
        },
        "outputId": "3585f684-c31f-402b-96c9-27d1a229b309"
      },
      "source": [
        "try:\n",
        "  from google.colab import files\n",
        "except ImportError:\n",
        "   pass\n",
        "else:\n",
        "  files.download('vecs.tsv')\n",
        "  files.download('meta.tsv')"
      ],
      "execution_count": 21,
      "outputs": [
        {
          "output_type": "display_data",
          "data": {
            "application/javascript": [
              "\n",
              "    async function download(id, filename, size) {\n",
              "      if (!google.colab.kernel.accessAllowed) {\n",
              "        return;\n",
              "      }\n",
              "      const div = document.createElement('div');\n",
              "      const label = document.createElement('label');\n",
              "      label.textContent = `Downloading \"${filename}\": `;\n",
              "      div.appendChild(label);\n",
              "      const progress = document.createElement('progress');\n",
              "      progress.max = size;\n",
              "      div.appendChild(progress);\n",
              "      document.body.appendChild(div);\n",
              "\n",
              "      const buffers = [];\n",
              "      let downloaded = 0;\n",
              "\n",
              "      const channel = await google.colab.kernel.comms.open(id);\n",
              "      // Send a message to notify the kernel that we're ready.\n",
              "      channel.send({})\n",
              "\n",
              "      for await (const message of channel.messages) {\n",
              "        // Send a message to notify the kernel that we're ready.\n",
              "        channel.send({})\n",
              "        if (message.buffers) {\n",
              "          for (const buffer of message.buffers) {\n",
              "            buffers.push(buffer);\n",
              "            downloaded += buffer.byteLength;\n",
              "            progress.value = downloaded;\n",
              "          }\n",
              "        }\n",
              "      }\n",
              "      const blob = new Blob(buffers, {type: 'application/binary'});\n",
              "      const a = document.createElement('a');\n",
              "      a.href = window.URL.createObjectURL(blob);\n",
              "      a.download = filename;\n",
              "      div.appendChild(a);\n",
              "      a.click();\n",
              "      div.remove();\n",
              "    }\n",
              "  "
            ],
            "text/plain": [
              "<IPython.core.display.Javascript object>"
            ]
          },
          "metadata": {
            "tags": []
          }
        },
        {
          "output_type": "display_data",
          "data": {
            "application/javascript": [
              "download(\"download_1b1ac0e7-c21a-4794-8f23-9efa3159c48a\", \"vecs.tsv\", 2915055)"
            ],
            "text/plain": [
              "<IPython.core.display.Javascript object>"
            ]
          },
          "metadata": {
            "tags": []
          }
        },
        {
          "output_type": "display_data",
          "data": {
            "application/javascript": [
              "\n",
              "    async function download(id, filename, size) {\n",
              "      if (!google.colab.kernel.accessAllowed) {\n",
              "        return;\n",
              "      }\n",
              "      const div = document.createElement('div');\n",
              "      const label = document.createElement('label');\n",
              "      label.textContent = `Downloading \"${filename}\": `;\n",
              "      div.appendChild(label);\n",
              "      const progress = document.createElement('progress');\n",
              "      progress.max = size;\n",
              "      div.appendChild(progress);\n",
              "      document.body.appendChild(div);\n",
              "\n",
              "      const buffers = [];\n",
              "      let downloaded = 0;\n",
              "\n",
              "      const channel = await google.colab.kernel.comms.open(id);\n",
              "      // Send a message to notify the kernel that we're ready.\n",
              "      channel.send({})\n",
              "\n",
              "      for await (const message of channel.messages) {\n",
              "        // Send a message to notify the kernel that we're ready.\n",
              "        channel.send({})\n",
              "        if (message.buffers) {\n",
              "          for (const buffer of message.buffers) {\n",
              "            buffers.push(buffer);\n",
              "            downloaded += buffer.byteLength;\n",
              "            progress.value = downloaded;\n",
              "          }\n",
              "        }\n",
              "      }\n",
              "      const blob = new Blob(buffers, {type: 'application/binary'});\n",
              "      const a = document.createElement('a');\n",
              "      a.href = window.URL.createObjectURL(blob);\n",
              "      a.download = filename;\n",
              "      div.appendChild(a);\n",
              "      a.click();\n",
              "      div.remove();\n",
              "    }\n",
              "  "
            ],
            "text/plain": [
              "<IPython.core.display.Javascript object>"
            ]
          },
          "metadata": {
            "tags": []
          }
        },
        {
          "output_type": "display_data",
          "data": {
            "application/javascript": [
              "download(\"download_ec57bf26-552d-4823-8d22-715a7c6b76da\", \"meta.tsv\", 47332)"
            ],
            "text/plain": [
              "<IPython.core.display.Javascript object>"
            ]
          },
          "metadata": {
            "tags": []
          }
        }
      ]
    },
    {
      "cell_type": "markdown",
      "metadata": {
        "id": "sifBP-e14Jhs",
        "colab_type": "text"
      },
      "source": [
        "# Visualize the embeddings"
      ]
    },
    {
      "cell_type": "markdown",
      "metadata": {
        "id": "0-F3qB714MGu",
        "colab_type": "text"
      },
      "source": [
        "To visualize our embeddings we will upload them to the embedding projector.\n",
        "\n",
        "* Open the Embedding Projector (this can also run in a local TensorBoard instance).\n",
        "\n",
        "* Click on \"Load data\".\n",
        "\n",
        "* Upload the two files we created above: vecs.tsv and meta.tsv.\n",
        "\n",
        "The embeddings you have trained will now be displayed. You can search for words to find their closest neighbors. For example, try searching for \"beautiful\". You may see neighbors like \"wonderful\"."
      ]
    },
    {
      "cell_type": "markdown",
      "metadata": {
        "id": "O4uHhzQu4TIy",
        "colab_type": "text"
      },
      "source": [
        "http://projector.tensorflow.org/"
      ]
    },
    {
      "cell_type": "code",
      "metadata": {
        "id": "g0PuB9Ks4Tgo",
        "colab_type": "code",
        "colab": {}
      },
      "source": [
        ""
      ],
      "execution_count": null,
      "outputs": []
    }
  ]
}