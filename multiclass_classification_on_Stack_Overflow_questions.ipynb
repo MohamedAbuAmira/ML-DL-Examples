{
  "nbformat": 4,
  "nbformat_minor": 0,
  "metadata": {
    "colab": {
      "name": " multiclass classification on Stack Overflow questions.ipynb",
      "provenance": [],
      "collapsed_sections": [],
      "toc_visible": true,
      "include_colab_link": true
    },
    "kernelspec": {
      "name": "python3",
      "display_name": "Python 3"
    }
  },
  "cells": [
    {
      "cell_type": "markdown",
      "metadata": {
        "id": "view-in-github",
        "colab_type": "text"
      },
      "source": [
        "<a href=\"https://colab.research.google.com/github/MohamedAbuAmira/ML-DL-Examples/blob/master/multiclass_classification_on_Stack_Overflow_questions.ipynb\" target=\"_parent\"><img src=\"https://colab.research.google.com/assets/colab-badge.svg\" alt=\"Open In Colab\"/></a>"
      ]
    },
    {
      "cell_type": "markdown",
      "metadata": {
        "id": "IO6KUPmp_buH",
        "colab_type": "text"
      },
      "source": [
        "This example done by Mohammed Abu Amera \n",
        "https://www.linkedin.com/in/mohamedabuamira/"
      ]
    },
    {
      "cell_type": "markdown",
      "metadata": {
        "id": "_cXJ2tcH2PCv",
        "colab_type": "text"
      },
      "source": [
        "\n",
        "The dataset containing the body of several thousand programming questions (for example, \"How can sort a dictionary by value in Python?\") posted to Stack Overflow. Each of these is labeled with exactly one tag (either Python, CSharp, JavaScript, or Java).The task is to take a question as input, and predict the appropriate tag, in this case, Python.\n",
        "\n"
      ]
    },
    {
      "cell_type": "code",
      "metadata": {
        "id": "AMHcFVao2I1I",
        "colab_type": "code",
        "colab": {}
      },
      "source": [
        "import matplotlib.pyplot as plt\n",
        "import os\n",
        "import re\n",
        "import shutil\n",
        "import string\n",
        "import tensorflow as tf\n",
        "\n",
        "from tensorflow.keras import layers\n",
        "from tensorflow.keras import losses\n",
        "from tensorflow.keras import preprocessing\n",
        "from tensorflow.keras.layers.experimental.preprocessing import TextVectorization"
      ],
      "execution_count": 1,
      "outputs": []
    },
    {
      "cell_type": "code",
      "metadata": {
        "id": "Wr0GNpCh2Thc",
        "colab_type": "code",
        "colab": {
          "base_uri": "https://localhost:8080/",
          "height": 34
        },
        "outputId": "82a42da4-63f7-4422-b39e-cf94aea478de"
      },
      "source": [
        "print(tf.__version__)\n"
      ],
      "execution_count": 2,
      "outputs": [
        {
          "output_type": "stream",
          "text": [
            "2.3.0\n"
          ],
          "name": "stdout"
        }
      ]
    },
    {
      "cell_type": "markdown",
      "metadata": {
        "id": "9rL8mAYv2XUp",
        "colab_type": "text"
      },
      "source": [
        "# Sentiment analysis"
      ]
    },
    {
      "cell_type": "markdown",
      "metadata": {
        "id": "sZs5u51L2iC8",
        "colab_type": "text"
      },
      "source": [
        "## Download and explore the IMDB dataset"
      ]
    },
    {
      "cell_type": "code",
      "metadata": {
        "id": "Pps1zMfg2VEG",
        "colab_type": "code",
        "colab": {}
      },
      "source": [
        "url = \"http://storage.googleapis.com/download.tensorflow.org/data/stack_overflow_16k.tar.gz\"\n",
        "\n",
        "dataset = tf.keras.utils.get_file(\"stack_overflow_16k\", url,\n",
        "                                    untar=True, cache_dir='.',\n",
        "                                    cache_subdir='')\n",
        "\n",
        "#dataset_dir = os.path.join(os.path.dirname(dataset), 'stack_overflow_16k')     "
      ],
      "execution_count": 26,
      "outputs": []
    },
    {
      "cell_type": "code",
      "metadata": {
        "id": "a3B62Qvr5GNx",
        "colab_type": "code",
        "colab": {
          "base_uri": "https://localhost:8080/",
          "height": 35
        },
        "outputId": "37e546c1-dc12-44f0-a428-812d09402f70"
      },
      "source": [
        "train_dir = os.path.join(os.path.dirname(dataset), 'train')\n",
        "train_dir\n"
      ],
      "execution_count": 28,
      "outputs": [
        {
          "output_type": "execute_result",
          "data": {
            "application/vnd.google.colaboratory.intrinsic+json": {
              "type": "string"
            },
            "text/plain": [
              "'./train'"
            ]
          },
          "metadata": {
            "tags": []
          },
          "execution_count": 28
        }
      ]
    },
    {
      "cell_type": "code",
      "metadata": {
        "id": "U3OlBsgu5zjH",
        "colab_type": "code",
        "colab": {
          "base_uri": "https://localhost:8080/",
          "height": 34
        },
        "outputId": "e4915bba-0bd6-432f-cfe7-c33d75d8430c"
      },
      "source": [
        "os.listdir(train_dir)"
      ],
      "execution_count": 29,
      "outputs": [
        {
          "output_type": "execute_result",
          "data": {
            "text/plain": [
              "['javascript', 'python', 'csharp', 'java']"
            ]
          },
          "metadata": {
            "tags": []
          },
          "execution_count": 29
        }
      ]
    },
    {
      "cell_type": "code",
      "metadata": {
        "id": "FlkWfc1I5XK2",
        "colab_type": "code",
        "colab": {
          "base_uri": "https://localhost:8080/",
          "height": 71
        },
        "outputId": "becfb339-1330-425a-d2a9-6281990be0b4"
      },
      "source": [
        "sample_file = os.path.join(train_dir, 'python/1004.txt')\n",
        "with open(sample_file) as f:\n",
        "  print(f.read())"
      ],
      "execution_count": 30,
      "outputs": [
        {
          "output_type": "stream",
          "text": [
            "\"sharing util modules between actively developed apps we have a growing library of apps depending on a set of common util modules.  we'd like to:...share the same utils codebase between all projects.allow utils to be extended (and fixed!) by developers working on any project.have this be reasonably simple to use for devs (i.e. not a big disruption to workflow).cross-platform (no diffs for devs on macs/win/linux)...we currently do this \"\"manually\"\", with the utils versioned as part of each app.  this has its benefits, but is also quite painful to repeatedly fix bugs across a growing number of codebases.  ..on the plus side, it's very simple to deal with in terms of workflow - util module is part of each app, so on that side there is zero overhead...we also considered (fleetingly) using filesystem links or some such (not portable between os's)..i understand the implications about release testing and breakage, etc.  these are less of a problem than the mismatched utils are at the moment.\"\n",
            "\n"
          ],
          "name": "stdout"
        }
      ]
    },
    {
      "cell_type": "markdown",
      "metadata": {
        "id": "SyXCTbHi6kku",
        "colab_type": "text"
      },
      "source": [
        "## Load the dataset"
      ]
    },
    {
      "cell_type": "markdown",
      "metadata": {
        "id": "eIpN3b307SFD",
        "colab_type": "text"
      },
      "source": [
        "Next, you will use the text_dataset_from_directory utility to create a labeled tf.data.Dataset. tf.data is a powerful collection of tools for working with data."
      ]
    },
    {
      "cell_type": "markdown",
      "metadata": {
        "id": "VXqtiAlg7kvr",
        "colab_type": "text"
      },
      "source": [
        "The IMDB dataset has already been divided into train and test, but it lacks a validation set. Let's create a validation set using an 80:20 split of the training data by using the validation_split argument below."
      ]
    },
    {
      "cell_type": "code",
      "metadata": {
        "id": "vSmKtrCg6upL",
        "colab_type": "code",
        "colab": {
          "base_uri": "https://localhost:8080/",
          "height": 51
        },
        "outputId": "5f96a4ab-96f1-4a09-e5a5-ce8b98453b2d"
      },
      "source": [
        "batch_size = 32\n",
        "seed = 44\n",
        "\n",
        "raw_train_ds = tf.keras.preprocessing.text_dataset_from_directory(\n",
        "    './train', \n",
        "    batch_size=batch_size, \n",
        "    validation_split=0.2, \n",
        "    subset='training', \n",
        "    seed=seed)"
      ],
      "execution_count": 31,
      "outputs": [
        {
          "output_type": "stream",
          "text": [
            "Found 8000 files belonging to 4 classes.\n",
            "Using 6400 files for training.\n"
          ],
          "name": "stdout"
        }
      ]
    },
    {
      "cell_type": "code",
      "metadata": {
        "id": "9LQ4vqm78mVY",
        "colab_type": "code",
        "colab": {
          "base_uri": "https://localhost:8080/",
          "height": 34
        },
        "outputId": "9aa9142b-03b9-43f6-de91-1f9443f30299"
      },
      "source": [
        "len(raw_train_ds)"
      ],
      "execution_count": 32,
      "outputs": [
        {
          "output_type": "execute_result",
          "data": {
            "text/plain": [
              "200"
            ]
          },
          "metadata": {
            "tags": []
          },
          "execution_count": 32
        }
      ]
    },
    {
      "cell_type": "code",
      "metadata": {
        "id": "faauxywq8g9p",
        "colab_type": "code",
        "colab": {
          "base_uri": "https://localhost:8080/",
          "height": 139
        },
        "outputId": "3a600c6e-1a6a-4826-9e22-e97f1075f3fe"
      },
      "source": [
        "for text_batch, label_batch in raw_train_ds.take(1): #take one batch\n",
        "  for i in range(3):\n",
        "    print(\"Review\", text_batch.numpy()[i])\n",
        "    print(\"Label\", label_batch.numpy()[i])"
      ],
      "execution_count": 33,
      "outputs": [
        {
          "output_type": "stream",
          "text": [
            "Review b'\"execute the script with special command iceweasel ( which is a firefox webbrowser for debian ) i have a problem, i would like to execute my blank script but with special command like this:..iceweasel \\'info.py server.py path_install.py\\'...this command must be typed on the client and we open the page with informations :..info.py (= os and ip of client).server.py.path_install.py...but i really don\\'t understand where to start this ...\"\\n'\n",
            "Label 3\n",
            "Review b'\"toggle elements jquery i have a three a tags on a page. user can \"\"select\"\" only one..markup:..&lt;div class=\"\"fl_near\"\"&gt;.  &lt;span class=\"\"title\"\"&gt;title&lt;/span&gt;.  &lt;p&gt;.    &lt;a id=\"\"filter_today\"\" class=\"\"first_tb\"\" style=\"\"display: block\"\"&gt;.      &lt;span&gt;text1&lt;/span&gt;.    &lt;/a&gt;.    &lt;a id=\"\"filter_tomorrow\"\"&gt;.      &lt;span&gt;text2&lt;/span&gt;.    &lt;/a&gt;.    &lt;a id=\"\"filter_aftertomorrow\"\" class=\"\"last_tb selected\"\" style=\"\"display: block\"\"&gt;.      &lt;span&gt;text3&lt;/span&gt;.    &lt;/a&gt;.  &lt;/p&gt;.&lt;/div&gt;...js code:  ..$(\\'.fl_near\\').find(\\'a:not(.selected)\\').click(function () {.    alert(\\'1\\');.        $(\\'.fl_near\\').find(\\'a\\').removeclass(\\'selected\\');.        $(this).addclass(\\'selected\\');.    });...this code not works properly. if i select first or second tag then all ok - style is switched, but alert shows anyway. if i select first then i can\\'t select the last..where is a problem and why?.thanks...demo\"\\n'\n",
            "Label 2\n",
            "Review b'\"how can i sort arrays of various sizes in blank? like 10, 20, 50, 100, 1000 elements? i need to sort arrays of varying sizes. these sizes are: 10 elements, 50 elements, 100 elements, 500 elements, and 1000 elements. for each of these array sizes, i should use one array that is already sorted, another array that is partially sorted, and one that is random. i should use three sorts, like quicksort, insertion, or bubblesort. i have been working this for 2 weeks but can not seem to create an call the arrays.\"\\n'\n",
            "Label 1\n"
          ],
          "name": "stdout"
        }
      ]
    },
    {
      "cell_type": "code",
      "metadata": {
        "id": "hi2w-Drp80pB",
        "colab_type": "code",
        "colab": {
          "base_uri": "https://localhost:8080/",
          "height": 85
        },
        "outputId": "25a32af9-121e-425d-e981-31b8c6d429e5"
      },
      "source": [
        "print(\"Label 0 corresponds to\", raw_train_ds.class_names[0])\n",
        "print(\"Label 1 corresponds to\", raw_train_ds.class_names[1])\n",
        "print(\"Label 2 corresponds to\", raw_train_ds.class_names[2])\n",
        "print(\"Label 3 corresponds to\", raw_train_ds.class_names[3])"
      ],
      "execution_count": 35,
      "outputs": [
        {
          "output_type": "stream",
          "text": [
            "Label 0 corresponds to csharp\n",
            "Label 1 corresponds to java\n",
            "Label 2 corresponds to javascript\n",
            "Label 3 corresponds to python\n"
          ],
          "name": "stdout"
        }
      ]
    },
    {
      "cell_type": "markdown",
      "metadata": {
        "id": "_YKTZhr79_Kw",
        "colab_type": "text"
      },
      "source": [
        "**Note: When using the validation_split and subset arguments, make sure to either specify a random seed, or to pass shuffle=False, so that the validation and training splits have no overlap.**"
      ]
    },
    {
      "cell_type": "code",
      "metadata": {
        "id": "3t235XcO9oL2",
        "colab_type": "code",
        "colab": {
          "base_uri": "https://localhost:8080/",
          "height": 51
        },
        "outputId": "c6dcc033-e2d4-4118-c908-d4f1bd518275"
      },
      "source": [
        "raw_val_ds = tf.keras.preprocessing.text_dataset_from_directory(\n",
        "    './train', \n",
        "    batch_size=batch_size, \n",
        "    validation_split=0.2, \n",
        "    subset='validation', \n",
        "    seed=seed)"
      ],
      "execution_count": 36,
      "outputs": [
        {
          "output_type": "stream",
          "text": [
            "Found 8000 files belonging to 4 classes.\n",
            "Using 1600 files for validation.\n"
          ],
          "name": "stdout"
        }
      ]
    },
    {
      "cell_type": "code",
      "metadata": {
        "id": "IdF3VmXL-hhn",
        "colab_type": "code",
        "colab": {
          "base_uri": "https://localhost:8080/",
          "height": 34
        },
        "outputId": "f21f60f4-62f4-4d67-9097-a1b1a92f25bd"
      },
      "source": [
        "raw_test_ds = tf.keras.preprocessing.text_dataset_from_directory(\n",
        "    './test', \n",
        "    batch_size=batch_size)"
      ],
      "execution_count": 37,
      "outputs": [
        {
          "output_type": "stream",
          "text": [
            "Found 8000 files belonging to 4 classes.\n"
          ],
          "name": "stdout"
        }
      ]
    },
    {
      "cell_type": "markdown",
      "metadata": {
        "id": "z4ZEKKBV_A-P",
        "colab_type": "text"
      },
      "source": [
        "## Prepare the dataset for training"
      ]
    },
    {
      "cell_type": "markdown",
      "metadata": {
        "id": "tWk6hMSi_Lfk",
        "colab_type": "text"
      },
      "source": [
        "Next, you will **standardize**, **tokenize**, and **vectorize** the data using the helpful `preprocessing.TextVectorization` layer."
      ]
    },
    {
      "cell_type": "markdown",
      "metadata": {
        "id": "WO6UcbQo_U8z",
        "colab_type": "text"
      },
      "source": [
        "* **Standardization** refers to preprocessing the text, typically to remove punctuation or HTML elements to simplify the dataset.\n",
        "* **Tokenization** refers to splitting strings into tokens (for example, splitting a sentence into individual words, by splitting on whitespace).\n",
        "* **Vectorization refers** to converting tokens into numbers so they can be fed into a neural network. \n",
        "\n",
        "*All of these tasks can be accomplished with this layer*"
      ]
    },
    {
      "cell_type": "markdown",
      "metadata": {
        "id": "j8cAKVYWCZwF",
        "colab_type": "text"
      },
      "source": [
        "You set the output_mode to int to create unique integer indices for each token"
      ]
    },
    {
      "cell_type": "markdown",
      "metadata": {
        "id": "QheK8wrpCyJM",
        "colab_type": "text"
      },
      "source": [
        "`sequence_length`, which will cause the layer to pad or truncate sequences to exactly `sequence_length` values."
      ]
    },
    {
      "cell_type": "code",
      "metadata": {
        "id": "UT2h3MsvCVav",
        "colab_type": "code",
        "colab": {}
      },
      "source": [
        "max_features = 8000                        # here 100000 words converted to in integers\n",
        "sequence_length = 400                       # Take just 250 word from every text\n",
        " \n",
        "vectorize_layer = TextVectorization(\n",
        "    max_tokens=max_features,\n",
        "    output_mode='int',\n",
        "    output_sequence_length=sequence_length)"
      ],
      "execution_count": 70,
      "outputs": []
    },
    {
      "cell_type": "markdown",
      "metadata": {
        "id": "AdRvzimuDGrk",
        "colab_type": "text"
      },
      "source": [
        "Next, you will call `adapt` to fit the state of the preprocessing layer to the dataset. This will cause the model to build an index of strings to integers."
      ]
    },
    {
      "cell_type": "markdown",
      "metadata": {
        "id": "B18nSGz2Dw0i",
        "colab_type": "text"
      },
      "source": [
        "**Note: it's important to only use your training data when calling adapt (using the test set would leak information)**.\n"
      ]
    },
    {
      "cell_type": "code",
      "metadata": {
        "id": "PrhWHN43C9TV",
        "colab_type": "code",
        "colab": {}
      },
      "source": [
        "# Make a text-only dataset (without labels), then call adapt\n",
        "train_text = raw_train_ds.map(lambda x, y: x)\n",
        "vectorize_layer.adapt(train_text)"
      ],
      "execution_count": 71,
      "outputs": []
    },
    {
      "cell_type": "markdown",
      "metadata": {
        "id": "YZVHcIuSHyXf",
        "colab_type": "text"
      },
      "source": [
        "Let's create a function to see the result of using this layer to preprocess some data.\n",
        "\n"
      ]
    },
    {
      "cell_type": "code",
      "metadata": {
        "id": "GvrE8XMJD6KZ",
        "colab_type": "code",
        "colab": {}
      },
      "source": [
        "def vectorize_text(text, label):\n",
        "  text = tf.expand_dims(text, -1)\n",
        "  return vectorize_layer(text), label"
      ],
      "execution_count": 72,
      "outputs": []
    },
    {
      "cell_type": "code",
      "metadata": {
        "id": "NeOs_K_EH3Dj",
        "colab_type": "code",
        "colab": {
          "base_uri": "https://localhost:8080/",
          "height": 717
        },
        "outputId": "4ea6b71a-55d1-47d2-df36-e5f3ceb7cd0f"
      },
      "source": [
        "# retrieve a batch (of 32 reviews and labels) from the dataset\n",
        "text_batch, label_batch = next(iter(raw_train_ds))\n",
        "first_review, first_label = text_batch[0], label_batch[0]\n",
        "print(\"Q\", first_review)\n",
        "print(\"Label\", raw_train_ds.class_names[first_label])\n",
        "print(\"Vectorized Q\", vectorize_text(first_review, first_label))"
      ],
      "execution_count": 73,
      "outputs": [
        {
          "output_type": "stream",
          "text": [
            "Q tf.Tensor(b'\"removing decimals from a list in blank i would like to know if it is possible to remove the decimals from a product of a maths command in blank. my code is below. i would like to print only the whole numbers and not show the others...mylist = [5,10,15,20,25,30,35,40,45,50].myint = 7.newlist = [x / myint for x in mylist].print (newlist)\"\\n', shape=(), dtype=string)\n",
            "Label python\n",
            "Vectorized Q (<tf.Tensor: shape=(1, 400), dtype=int64, numpy=\n",
            "array([[ 970, 3507,   32,    5,   57,    7,   16,    3,   66,   47,    4,\n",
            "          98,   10,   11,    6,  208,    4,  278,    2, 3507,   32,    5,\n",
            "         749,    9,    5, 6473,  311,    7,   16,   23,   29,    6,  167,\n",
            "           3,   66,   47,    4,   79,   93,    2,  676,  184,    8,   20,\n",
            "         259,    2,    1,    1,    1,   90, 6438,   12,   90,    7,    1,\n",
            "        4641,    0,    0,    0,    0,    0,    0,    0,    0,    0,    0,\n",
            "           0,    0,    0,    0,    0,    0,    0,    0,    0,    0,    0,\n",
            "           0,    0,    0,    0,    0,    0,    0,    0,    0,    0,    0,\n",
            "           0,    0,    0,    0,    0,    0,    0,    0,    0,    0,    0,\n",
            "           0,    0,    0,    0,    0,    0,    0,    0,    0,    0,    0,\n",
            "           0,    0,    0,    0,    0,    0,    0,    0,    0,    0,    0,\n",
            "           0,    0,    0,    0,    0,    0,    0,    0,    0,    0,    0,\n",
            "           0,    0,    0,    0,    0,    0,    0,    0,    0,    0,    0,\n",
            "           0,    0,    0,    0,    0,    0,    0,    0,    0,    0,    0,\n",
            "           0,    0,    0,    0,    0,    0,    0,    0,    0,    0,    0,\n",
            "           0,    0,    0,    0,    0,    0,    0,    0,    0,    0,    0,\n",
            "           0,    0,    0,    0,    0,    0,    0,    0,    0,    0,    0,\n",
            "           0,    0,    0,    0,    0,    0,    0,    0,    0,    0,    0,\n",
            "           0,    0,    0,    0,    0,    0,    0,    0,    0,    0,    0,\n",
            "           0,    0,    0,    0,    0,    0,    0,    0,    0,    0,    0,\n",
            "           0,    0,    0,    0,    0,    0,    0,    0,    0,    0,    0,\n",
            "           0,    0,    0,    0,    0,    0,    0,    0,    0,    0,    0,\n",
            "           0,    0,    0,    0,    0,    0,    0,    0,    0,    0,    0,\n",
            "           0,    0,    0,    0,    0,    0,    0,    0,    0,    0,    0,\n",
            "           0,    0,    0,    0,    0,    0,    0,    0,    0,    0,    0,\n",
            "           0,    0,    0,    0,    0,    0,    0,    0,    0,    0,    0,\n",
            "           0,    0,    0,    0,    0,    0,    0,    0,    0,    0,    0,\n",
            "           0,    0,    0,    0,    0,    0,    0,    0,    0,    0,    0,\n",
            "           0,    0,    0,    0,    0,    0,    0,    0,    0,    0,    0,\n",
            "           0,    0,    0,    0,    0,    0,    0,    0,    0,    0,    0,\n",
            "           0,    0,    0,    0,    0,    0,    0,    0,    0,    0,    0,\n",
            "           0,    0,    0,    0,    0,    0,    0,    0,    0,    0,    0,\n",
            "           0,    0,    0,    0,    0,    0,    0,    0,    0,    0,    0,\n",
            "           0,    0,    0,    0,    0,    0,    0,    0,    0,    0,    0,\n",
            "           0,    0,    0,    0,    0,    0,    0,    0,    0,    0,    0,\n",
            "           0,    0,    0,    0,    0,    0,    0,    0,    0,    0,    0,\n",
            "           0,    0,    0,    0]])>, <tf.Tensor: shape=(), dtype=int32, numpy=3>)\n"
          ],
          "name": "stdout"
        }
      ]
    },
    {
      "cell_type": "markdown",
      "metadata": {
        "id": "gKTsj6AKLQD_",
        "colab_type": "text"
      },
      "source": [
        "As you can see above, **each token has been replaced by an integer**. You can lookup the token (string) that each integer corresponds to by calling `.get_vocabulary()` on the layer."
      ]
    },
    {
      "cell_type": "code",
      "metadata": {
        "id": "tnEwGldIIfqD",
        "colab_type": "code",
        "colab": {
          "base_uri": "https://localhost:8080/",
          "height": 68
        },
        "outputId": "97f7d648-973b-47f7-be73-99ef11d8da97"
      },
      "source": [
        "print(\"100 ---> \",vectorize_layer.get_vocabulary()[100])\n",
        "print(\" 4 ---> \",vectorize_layer.get_vocabulary()[4])\n",
        "print('Vocabulary size: {}'.format(len(vectorize_layer.get_vocabulary())))"
      ],
      "execution_count": 74,
      "outputs": [
        {
          "output_type": "stream",
          "text": [
            "100 --->  user\n",
            " 4 --->  to\n",
            "Vocabulary size: 8000\n"
          ],
          "name": "stdout"
        }
      ]
    },
    {
      "cell_type": "markdown",
      "metadata": {
        "id": "yNWfEZI9Mqqq",
        "colab_type": "text"
      },
      "source": [
        "You are nearly ready to train your model. As a final preprocessing step, you will apply the TextVectorization layer you created earlier to the train, validation, and test dataset."
      ]
    },
    {
      "cell_type": "code",
      "metadata": {
        "id": "ZO2fXovVMUfj",
        "colab_type": "code",
        "colab": {}
      },
      "source": [
        "train_ds = raw_train_ds.map(vectorize_text)\n",
        "val_ds = raw_val_ds.map(vectorize_text)\n",
        "test_ds = raw_test_ds.map(vectorize_text)"
      ],
      "execution_count": 75,
      "outputs": []
    },
    {
      "cell_type": "markdown",
      "metadata": {
        "id": "fS7iIVLzNhmF",
        "colab_type": "text"
      },
      "source": [
        "## Configure the dataset for performance"
      ]
    },
    {
      "cell_type": "markdown",
      "metadata": {
        "id": "Sfb17i4DNni3",
        "colab_type": "text"
      },
      "source": [
        ".cache() keeps data in memory after it's loaded off disk. This will ensure the dataset does not become a bottleneck while training your model. If your dataset is too large to fit into memory, you can also use this method to create a performant on-disk cache, which is more efficient to read than many small files.\n",
        "\n",
        ".prefetch() overlaps data preprocessing and model execution while training.\n",
        "\n",
        "You can learn more about both methods, as well as how to cache data to disk in the data performance guide."
      ]
    },
    {
      "cell_type": "code",
      "metadata": {
        "id": "xX656b-oMr5n",
        "colab_type": "code",
        "colab": {}
      },
      "source": [
        "\n",
        "\n",
        "AUTOTUNE = tf.data.experimental.AUTOTUNE\n",
        "\n",
        "train_ds = train_ds.cache().prefetch(buffer_size=AUTOTUNE)\n",
        "val_ds = val_ds.cache().prefetch(buffer_size=AUTOTUNE)\n",
        "test_ds = test_ds.cache().prefetch(buffer_size=AUTOTUNE)"
      ],
      "execution_count": 76,
      "outputs": []
    },
    {
      "cell_type": "markdown",
      "metadata": {
        "id": "v0iSmmbSXqDs",
        "colab_type": "text"
      },
      "source": [
        "## Create the model"
      ]
    },
    {
      "cell_type": "code",
      "metadata": {
        "id": "Mzvrh1GvXwwn",
        "colab_type": "code",
        "colab": {}
      },
      "source": [
        "embedding_dim = 256\n"
      ],
      "execution_count": 77,
      "outputs": []
    },
    {
      "cell_type": "code",
      "metadata": {
        "id": "PectVkKWNoU_",
        "colab_type": "code",
        "colab": {
          "base_uri": "https://localhost:8080/",
          "height": 323
        },
        "outputId": "572c213a-f1ef-4efb-f4f3-4b6e324b43ed"
      },
      "source": [
        "model = tf.keras.Sequential([\n",
        "  layers.Embedding(max_features + 1, embedding_dim),\n",
        "  layers.Dropout(0.2),\n",
        "  layers.GlobalAveragePooling1D(),\n",
        "  layers.Dropout(0.2),\n",
        "  layers.Dense(4)])\n",
        "\n",
        "model.summary()"
      ],
      "execution_count": 78,
      "outputs": [
        {
          "output_type": "stream",
          "text": [
            "Model: \"sequential_3\"\n",
            "_________________________________________________________________\n",
            "Layer (type)                 Output Shape              Param #   \n",
            "=================================================================\n",
            "embedding_2 (Embedding)      (None, None, 256)         2048256   \n",
            "_________________________________________________________________\n",
            "dropout_4 (Dropout)          (None, None, 256)         0         \n",
            "_________________________________________________________________\n",
            "global_average_pooling1d_2 ( (None, 256)               0         \n",
            "_________________________________________________________________\n",
            "dropout_5 (Dropout)          (None, 256)               0         \n",
            "_________________________________________________________________\n",
            "dense_2 (Dense)              (None, 4)                 1028      \n",
            "=================================================================\n",
            "Total params: 2,049,284\n",
            "Trainable params: 2,049,284\n",
            "Non-trainable params: 0\n",
            "_________________________________________________________________\n"
          ],
          "name": "stdout"
        }
      ]
    },
    {
      "cell_type": "markdown",
      "metadata": {
        "id": "CB1pTaj-aaQj",
        "colab_type": "text"
      },
      "source": [
        "**The layers are stacked sequentially to build the classifier:**\n",
        "\n",
        "* The first layer is an Embedding layer. This layer takes the integer-encoded reviews and looks up an embedding vector for each word-index. These vectors are learned as the model trains. The vectors add a dimension to the output array. The resulting dimensions are: (batch, sequence, embedding). To learn more about embeddings, see the word embedding tutorial.\n",
        "* Next, a GlobalAveragePooling1D layer returns a fixed-length output vector for each example by averaging over the sequence dimension. This allows the model to handle input of variable length, in the simplest way possible.\n",
        "* This fixed-length output vector is piped through a  \n",
        "   fully-connected (Dense) layer with 16 hidden units.\n",
        "The last layer is densely connected with a single output node."
      ]
    },
    {
      "cell_type": "code",
      "metadata": {
        "id": "fMgjNdURXz0X",
        "colab_type": "code",
        "colab": {}
      },
      "source": [
        "model.compile(loss=losses.SparseCategoricalCrossentropy(from_logits=True), optimizer='adam', metrics=['accuracy'])\n"
      ],
      "execution_count": 82,
      "outputs": []
    },
    {
      "cell_type": "code",
      "metadata": {
        "id": "LgK-7ma6sUyM",
        "colab_type": "code",
        "colab": {
          "base_uri": "https://localhost:8080/",
          "height": 1000
        },
        "outputId": "4dc9f28b-406a-4c39-fa34-f83843c800d5"
      },
      "source": [
        "epochs = 30\n",
        "history = model.fit(\n",
        "    train_ds,\n",
        "    validation_data=val_ds,\n",
        "    epochs=epochs)"
      ],
      "execution_count": 83,
      "outputs": [
        {
          "output_type": "stream",
          "text": [
            "Epoch 1/30\n",
            "200/200 [==============================] - 14s 71ms/step - loss: 1.1318 - accuracy: 0.6280 - val_loss: 1.0745 - val_accuracy: 0.6687\n",
            "Epoch 2/30\n",
            "200/200 [==============================] - 14s 71ms/step - loss: 0.9737 - accuracy: 0.7075 - val_loss: 0.9406 - val_accuracy: 0.7225\n",
            "Epoch 3/30\n",
            "200/200 [==============================] - 14s 71ms/step - loss: 0.8363 - accuracy: 0.7525 - val_loss: 0.8393 - val_accuracy: 0.7406\n",
            "Epoch 4/30\n",
            "200/200 [==============================] - 14s 72ms/step - loss: 0.7297 - accuracy: 0.7822 - val_loss: 0.7670 - val_accuracy: 0.7613\n",
            "Epoch 5/30\n",
            "200/200 [==============================] - 14s 72ms/step - loss: 0.6475 - accuracy: 0.8072 - val_loss: 0.7159 - val_accuracy: 0.7688\n",
            "Epoch 6/30\n",
            "200/200 [==============================] - 14s 71ms/step - loss: 0.5814 - accuracy: 0.8305 - val_loss: 0.6782 - val_accuracy: 0.7775\n",
            "Epoch 7/30\n",
            "200/200 [==============================] - 14s 72ms/step - loss: 0.5258 - accuracy: 0.8492 - val_loss: 0.6498 - val_accuracy: 0.7806\n",
            "Epoch 8/30\n",
            "200/200 [==============================] - 15s 74ms/step - loss: 0.4812 - accuracy: 0.8622 - val_loss: 0.6296 - val_accuracy: 0.7788\n",
            "Epoch 9/30\n",
            "200/200 [==============================] - 15s 74ms/step - loss: 0.4404 - accuracy: 0.8755 - val_loss: 0.6128 - val_accuracy: 0.7837\n",
            "Epoch 10/30\n",
            "200/200 [==============================] - 14s 71ms/step - loss: 0.4068 - accuracy: 0.8845 - val_loss: 0.6000 - val_accuracy: 0.7806\n",
            "Epoch 11/30\n",
            "200/200 [==============================] - 14s 71ms/step - loss: 0.3774 - accuracy: 0.8930 - val_loss: 0.5935 - val_accuracy: 0.7819\n",
            "Epoch 12/30\n",
            "200/200 [==============================] - 14s 71ms/step - loss: 0.3502 - accuracy: 0.9025 - val_loss: 0.5868 - val_accuracy: 0.7831\n",
            "Epoch 13/30\n",
            "200/200 [==============================] - 14s 71ms/step - loss: 0.3258 - accuracy: 0.9108 - val_loss: 0.5813 - val_accuracy: 0.7812\n",
            "Epoch 14/30\n",
            "200/200 [==============================] - 14s 71ms/step - loss: 0.3021 - accuracy: 0.9166 - val_loss: 0.5788 - val_accuracy: 0.7825\n",
            "Epoch 15/30\n",
            "200/200 [==============================] - 14s 71ms/step - loss: 0.2830 - accuracy: 0.9241 - val_loss: 0.5763 - val_accuracy: 0.7831\n",
            "Epoch 16/30\n",
            "200/200 [==============================] - 14s 71ms/step - loss: 0.2637 - accuracy: 0.9302 - val_loss: 0.5773 - val_accuracy: 0.7819\n",
            "Epoch 17/30\n",
            "200/200 [==============================] - 14s 71ms/step - loss: 0.2469 - accuracy: 0.9391 - val_loss: 0.5768 - val_accuracy: 0.7837\n",
            "Epoch 18/30\n",
            "200/200 [==============================] - 14s 71ms/step - loss: 0.2315 - accuracy: 0.9406 - val_loss: 0.5819 - val_accuracy: 0.7812\n",
            "Epoch 19/30\n",
            "200/200 [==============================] - 14s 71ms/step - loss: 0.2167 - accuracy: 0.9453 - val_loss: 0.5849 - val_accuracy: 0.7812\n",
            "Epoch 20/30\n",
            "200/200 [==============================] - 15s 73ms/step - loss: 0.2024 - accuracy: 0.9500 - val_loss: 0.5902 - val_accuracy: 0.7800\n",
            "Epoch 21/30\n",
            "200/200 [==============================] - 14s 71ms/step - loss: 0.1906 - accuracy: 0.9533 - val_loss: 0.5907 - val_accuracy: 0.7819\n",
            "Epoch 22/30\n",
            "200/200 [==============================] - 14s 70ms/step - loss: 0.1773 - accuracy: 0.9600 - val_loss: 0.6009 - val_accuracy: 0.7800\n",
            "Epoch 23/30\n",
            "200/200 [==============================] - 14s 72ms/step - loss: 0.1674 - accuracy: 0.9609 - val_loss: 0.6063 - val_accuracy: 0.7806\n",
            "Epoch 24/30\n",
            "200/200 [==============================] - 14s 72ms/step - loss: 0.1564 - accuracy: 0.9656 - val_loss: 0.6135 - val_accuracy: 0.7812\n",
            "Epoch 25/30\n",
            "200/200 [==============================] - 14s 72ms/step - loss: 0.1461 - accuracy: 0.9684 - val_loss: 0.6203 - val_accuracy: 0.7819\n",
            "Epoch 26/30\n",
            "200/200 [==============================] - 14s 71ms/step - loss: 0.1367 - accuracy: 0.9703 - val_loss: 0.6326 - val_accuracy: 0.7806\n",
            "Epoch 27/30\n",
            "200/200 [==============================] - 14s 72ms/step - loss: 0.1284 - accuracy: 0.9734 - val_loss: 0.6388 - val_accuracy: 0.7819\n",
            "Epoch 28/30\n",
            "200/200 [==============================] - 14s 71ms/step - loss: 0.1206 - accuracy: 0.9750 - val_loss: 0.6505 - val_accuracy: 0.7794\n",
            "Epoch 29/30\n",
            "200/200 [==============================] - 14s 72ms/step - loss: 0.1124 - accuracy: 0.9775 - val_loss: 0.6652 - val_accuracy: 0.7800\n",
            "Epoch 30/30\n",
            "200/200 [==============================] - 15s 73ms/step - loss: 0.1060 - accuracy: 0.9802 - val_loss: 0.6731 - val_accuracy: 0.7794\n"
          ],
          "name": "stdout"
        }
      ]
    },
    {
      "cell_type": "code",
      "metadata": {
        "id": "ncjonkF0so4F",
        "colab_type": "code",
        "colab": {
          "base_uri": "https://localhost:8080/",
          "height": 68
        },
        "outputId": "1d7f28fe-068a-46a6-e30c-165c53883bf9"
      },
      "source": [
        "loss, accuracy = model.evaluate(test_ds)\n",
        "\n",
        "print(\"Loss: \", loss)\n",
        "print(\"Accuracy: \", accuracy)"
      ],
      "execution_count": 84,
      "outputs": [
        {
          "output_type": "stream",
          "text": [
            "250/250 [==============================] - 4s 18ms/step - loss: 0.6278 - accuracy: 0.7896\n",
            "Loss:  0.6277535557746887\n",
            "Accuracy:  0.7896249890327454\n"
          ],
          "name": "stdout"
        }
      ]
    },
    {
      "cell_type": "markdown",
      "metadata": {
        "id": "q33Hnnm2tvah",
        "colab_type": "text"
      },
      "source": [
        "## Create a plot of accuracy and loss over time"
      ]
    },
    {
      "cell_type": "code",
      "metadata": {
        "id": "GUkouJzCtfP3",
        "colab_type": "code",
        "colab": {
          "base_uri": "https://localhost:8080/",
          "height": 34
        },
        "outputId": "da0c27c8-6cd4-4eda-b4f8-5d4c365c1ce9"
      },
      "source": [
        "history_dict = history.history\n",
        "history_dict.keys()"
      ],
      "execution_count": 85,
      "outputs": [
        {
          "output_type": "execute_result",
          "data": {
            "text/plain": [
              "dict_keys(['loss', 'accuracy', 'val_loss', 'val_accuracy'])"
            ]
          },
          "metadata": {
            "tags": []
          },
          "execution_count": 85
        }
      ]
    },
    {
      "cell_type": "code",
      "metadata": {
        "id": "E2BqS61_t0Nv",
        "colab_type": "code",
        "colab": {
          "base_uri": "https://localhost:8080/",
          "height": 295
        },
        "outputId": "097a25f9-3410-4bf8-b9e0-1544fa633212"
      },
      "source": [
        "acc = history_dict['accuracy']\n",
        "val_acc = history_dict['val_accuracy']\n",
        "loss = history_dict['loss']\n",
        "val_loss = history_dict['val_loss']\n",
        "\n",
        "epochs = range(1, len(acc) + 1)\n",
        "\n",
        "# \"bo\" is for \"blue dot\"\n",
        "plt.plot(epochs, loss, 'bo', label='Training loss')\n",
        "# b is for \"solid blue line\"\n",
        "plt.plot(epochs, val_loss, 'b', label='Validation loss')\n",
        "plt.title('Training and validation loss')\n",
        "plt.xlabel('Epochs')\n",
        "plt.ylabel('Loss')\n",
        "plt.legend()\n",
        "\n",
        "plt.show()"
      ],
      "execution_count": 87,
      "outputs": [
        {
          "output_type": "display_data",
          "data": {
            "image/png": "[encoded data removed]",
            "text/plain": [
              "<Figure size 432x288 with 1 Axes>"
            ]
          },
          "metadata": {
            "tags": [],
            "needs_background": "light"
          }
        }
      ]
    },
    {
      "cell_type": "code",
      "metadata": {
        "id": "IDrSfUpwuMaC",
        "colab_type": "code",
        "colab": {
          "base_uri": "https://localhost:8080/",
          "height": 295
        },
        "outputId": "34e78968-ba13-4562-a50c-21331c779f30"
      },
      "source": [
        "plt.plot(epochs, acc, 'bo', label='Training acc')\n",
        "plt.plot(epochs, val_acc, 'b', label='Validation acc')\n",
        "plt.title('Training and validation accuracy')\n",
        "plt.xlabel('Epochs')\n",
        "plt.ylabel('Accuracy')\n",
        "plt.legend(loc='lower right')\n",
        "\n",
        "plt.show()"
      ],
      "execution_count": 88,
      "outputs": [
        {
          "output_type": "display_data",
          "data": {
            "image/png": "[encoded data removed]",
            "text/plain": [
              "<Figure size 432x288 with 1 Axes>"
            ]
          },
          "metadata": {
            "tags": [],
            "needs_background": "light"
          }
        }
      ]
    },
    {
      "cell_type": "markdown",
      "metadata": {
        "id": "DE1tyPsevnrN",
        "colab_type": "text"
      },
      "source": [
        "## Export the model"
      ]
    },
    {
      "cell_type": "markdown",
      "metadata": {
        "id": "yaaBJT9-vyFg",
        "colab_type": "text"
      },
      "source": [
        "In the code above, you applied the TextVectorization layer to the dataset before feeding text to the model. If you want to make your model capable of processing raw strings (for example, to simplify deploying it), you can include the TextVectorization layer inside your model. To do so, you can create a new model using the weights you just trained."
      ]
    },
    {
      "cell_type": "code",
      "metadata": {
        "id": "O8I38bhov5XT",
        "colab_type": "code",
        "colab": {
          "base_uri": "https://localhost:8080/",
          "height": 51
        },
        "outputId": "471109e9-a2ae-4ae0-c96e-8b41f8d25eb9"
      },
      "source": [
        "export_model = tf.keras.Sequential([\n",
        "  vectorize_layer,\n",
        "  model,\n",
        "  layers.Activation('sigmoid')\n",
        "])\n",
        "\n",
        "export_model.compile(\n",
        "    loss=losses.SparseCategoricalCrossentropy(from_logits=False), optimizer=\"adam\", metrics=['accuracy']\n",
        ")\n",
        "\n",
        "# Test it with `raw_test_ds`, which yields raw strings\n",
        "loss, accuracy = export_model.evaluate(raw_test_ds)\n",
        "print(accuracy)"
      ],
      "execution_count": 89,
      "outputs": [
        {
          "output_type": "stream",
          "text": [
            "250/250 [==============================] - 4s 17ms/step - loss: 0.7903 - accuracy: 0.7855\n",
            "0.7854999899864197\n"
          ],
          "name": "stdout"
        }
      ]
    },
    {
      "cell_type": "code",
      "metadata": {
        "id": "zhL2xu3iwMl0",
        "colab_type": "code",
        "colab": {}
      },
      "source": [
        ""
      ],
      "execution_count": null,
      "outputs": []
    }
  ]
}